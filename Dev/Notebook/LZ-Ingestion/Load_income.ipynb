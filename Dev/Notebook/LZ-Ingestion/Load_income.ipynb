{
 "cells": [
  {
   "cell_type": "code",
   "execution_count": 1,
   "metadata": {},
   "outputs": [],
   "source": [
    "import pandas as pd"
   ]
  },
  {
   "cell_type": "code",
   "execution_count": 2,
   "metadata": {},
   "outputs": [],
   "source": [
    "import datetime\n",
    "\n",
    "current_time=datetime.datetime.now()\n",
    "\n",
    "load_year=current_time.year\n",
    "load_month=current_time.month\n",
    "load_day=current_time.day"
   ]
  },
  {
   "cell_type": "code",
   "execution_count": 3,
   "metadata": {},
   "outputs": [],
   "source": [
    "external_path='https://storage.dosm.gov.my/hies/hh_income.csv' \n",
    "landing_zone_path=f'../../Landing-Zone/Customer/Income/hh_income_{load_year}-{load_month}-{load_day}.csv'"
   ]
  },
  {
   "cell_type": "code",
   "execution_count": 4,
   "metadata": {},
   "outputs": [
    {
     "data": {
      "text/plain": [
       "'../../Landing-Zone/Customer/Income/hh_income_2025-3-4.csv'"
      ]
     },
     "execution_count": 4,
     "metadata": {},
     "output_type": "execute_result"
    }
   ],
   "source": [
    "landing_zone_path"
   ]
  },
  {
   "cell_type": "code",
   "execution_count": 5,
   "metadata": {},
   "outputs": [],
   "source": [
    "df=pd.read_csv(external_path)\n",
    "df.shape\n",
    "df.to_csv(landing_zone_path)"
   ]
  }
 ],
 "metadata": {
  "kernelspec": {
   "display_name": "pizza-venv",
   "language": "python",
   "name": "python3"
  },
  "language_info": {
   "codemirror_mode": {
    "name": "ipython",
    "version": 3
   },
   "file_extension": ".py",
   "mimetype": "text/x-python",
   "name": "python",
   "nbconvert_exporter": "python",
   "pygments_lexer": "ipython3",
   "version": "3.12.5"
  }
 },
 "nbformat": 4,
 "nbformat_minor": 2
}
