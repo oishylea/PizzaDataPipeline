{
 "cells": [
  {
   "cell_type": "code",
   "execution_count": 2,
   "metadata": {},
   "outputs": [
    {
     "name": "stdout",
     "output_type": "stream",
     "text": [
      "         date  income_mean  income_median\n",
      "0  1970-01-01          264            166\n",
      "1  1974-01-01          362            227\n",
      "2  1976-01-01          505            308\n",
      "3  1979-01-01          678            429\n",
      "4  1984-01-01         1098            719\n"
     ]
    }
   ],
   "source": [
    "import pandas as pd\n",
    "import datetime\n",
    "# Get current date\n",
    "current_time = datetime.datetime.now()\n",
    "load_year = current_time.year\n",
    "load_month = current_time.month\n",
    "load_day = current_time.day\n",
    "\n",
    "# Define paths\n",
    "parquet_external_path = \"https://storage.dosm.gov.my/hies/hh_income.parquet\"\n",
    "parquet_landing_zone_path = f\"../../../Landing-Zone/Customer/Income/hh_income_{load_year}-{load_month}-{load_day}.parquet\"\n",
    "\n",
    "# Read Parquet file\n",
    "df = pd.read_parquet(parquet_external_path, engine=\"pyarrow\")  # Ensure pyarrow is installed\n",
    "\n",
    "# Save locally as a Parquet file\n",
    "df.to_parquet(parquet_landing_zone_path, engine=\"pyarrow\", index=False)\n",
    "\n",
    "# Print sample data\n",
    "print(df.head())\n"
   ]
  }
 ],
 "metadata": {
  "kernelspec": {
   "display_name": "myenv",
   "language": "python",
   "name": "python3"
  },
  "language_info": {
   "codemirror_mode": {
    "name": "ipython",
    "version": 3
   },
   "file_extension": ".py",
   "mimetype": "text/x-python",
   "name": "python",
   "nbconvert_exporter": "python",
   "pygments_lexer": "ipython3",
   "version": "3.9.19"
  }
 },
 "nbformat": 4,
 "nbformat_minor": 2
}
