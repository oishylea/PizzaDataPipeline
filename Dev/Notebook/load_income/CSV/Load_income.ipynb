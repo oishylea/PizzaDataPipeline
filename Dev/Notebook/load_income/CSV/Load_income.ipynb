{
 "cells": [
  {
   "cell_type": "code",
   "execution_count": 40,
   "metadata": {},
   "outputs": [
    {
     "data": {
      "text/plain": [
       "(21, 3)"
      ]
     },
     "execution_count": 40,
     "metadata": {},
     "output_type": "execute_result"
    }
   ],
   "source": [
    "import pandas as pd\n",
    "\n",
    "import datetime\n",
    "\n",
    "current_time=datetime.datetime.now()\n",
    "\n",
    "load_year=current_time.year\n",
    "load_month=current_time.month\n",
    "load_day=current_time.day\n",
    "\n",
    "external_path='https://storage.dosm.gov.my/hies/hh_income.csv' \n",
    "landing_zone_path = f\"C:\\\\Users\\\\Izzah Alia\\\\Documents\\\\App develop\\\\PizzaDataPipeline\\\\Dev\\\\Landing-Zone\\\\Customer\\\\Income\\\\hh_income_{load_year}-{load_month}-{load_day}.csv\"\n",
    "\n",
    "df=pd.read_csv(external_path)\n",
    "df.shape"
   ]
  },
  {
   "cell_type": "code",
   "execution_count": 41,
   "metadata": {},
   "outputs": [
    {
     "name": "stdout",
     "output_type": "stream",
     "text": [
      "Saving file to: C:\\Users\\Izzah Alia\\Documents\\App develop\\PizzaDataPipeline\\Dev\\Landing-Zone\\Customer\\Income\\hh_income_2025-3-5.csv\n"
     ]
    }
   ],
   "source": [
    "# Save file\n",
    "print(f\"Saving file to: {landing_zone_path}\")\n",
    "df.to_parquet(landing_zone_path)"
   ]
  }
 ],
 "metadata": {
  "kernelspec": {
   "display_name": "myenv",
   "language": "python",
   "name": "python3"
  },
  "language_info": {
   "codemirror_mode": {
    "name": "ipython",
    "version": 3
   },
   "file_extension": ".py",
   "mimetype": "text/x-python",
   "name": "python",
   "nbconvert_exporter": "python",
   "pygments_lexer": "ipython3",
   "version": "3.9.19"
  }
 },
 "nbformat": 4,
 "nbformat_minor": 2
}
